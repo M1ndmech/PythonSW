{
 "cells": [
  {
   "cell_type": "markdown",
   "id": "202fb429",
   "metadata": {},
   "source": [
    "# Семинар 1 \n",
    "\n",
    "## Задача 1"
   ]
  },
  {
   "cell_type": "code",
   "execution_count": 1,
   "id": "b83765df",
   "metadata": {},
   "outputs": [],
   "source": [
    "dict1 = {'One':1,'Two':2,'Three':3}\n",
    "dict2 = {'Four':4,'Five':5,'Six':6}"
   ]
  },
  {
   "cell_type": "markdown",
   "id": "eb833944",
   "metadata": {},
   "source": [
    "Используем функцию"
   ]
  },
  {
   "cell_type": "code",
   "execution_count": 2,
   "id": "4ffe9b8d",
   "metadata": {},
   "outputs": [],
   "source": [
    "def unite_dict (dict_a: dict, dict_b: dict) -> dict:\n",
    "    dict_new = dict_a | dict_b\n",
    "    return dict_new"
   ]
  },
  {
   "cell_type": "code",
   "execution_count": 3,
   "id": "cfccf932",
   "metadata": {},
   "outputs": [
    {
     "data": {
      "text/plain": [
       "{'One': 1, 'Two': 2, 'Three': 3, 'Four': 4, 'Five': 5, 'Six': 6}"
      ]
     },
     "execution_count": 3,
     "metadata": {},
     "output_type": "execute_result"
    }
   ],
   "source": [
    "unite_dict(dict1, dict2)"
   ]
  },
  {
   "cell_type": "markdown",
   "id": "255102ed",
   "metadata": {},
   "source": [
    "## Задача 2"
   ]
  },
  {
   "cell_type": "code",
   "execution_count": 6,
   "id": "cb0ce6c5",
   "metadata": {},
   "outputs": [],
   "source": [
    "keys = ['One', 'Two', 'Three']\n",
    "values = [1, 2, 3]"
   ]
  },
  {
   "cell_type": "markdown",
   "id": "01eecc28",
   "metadata": {},
   "source": [
    "### Подзадача 2.1"
   ]
  },
  {
   "cell_type": "code",
   "execution_count": 7,
   "id": "0c613bc8",
   "metadata": {},
   "outputs": [],
   "source": [
    "def dict_from_lists_1(keys: list, values: list) -> dict:\n",
    "    dict_new = {}\n",
    "    for i in range(len(keys)):\n",
    "        dict_new.update({keys[i]: values[i]})\n",
    "    return dict_new"
   ]
  },
  {
   "cell_type": "code",
   "execution_count": 18,
   "id": "44add193",
   "metadata": {},
   "outputs": [
    {
     "data": {
      "text/plain": [
       "{'One': 1, 'Two': 2, 'Three': 3}"
      ]
     },
     "execution_count": 18,
     "metadata": {},
     "output_type": "execute_result"
    }
   ],
   "source": [
    "dict_from_lists_1(keys, values)"
   ]
  },
  {
   "cell_type": "markdown",
   "id": "7447cb24",
   "metadata": {},
   "source": [
    "### Подзадача 2.2"
   ]
  },
  {
   "cell_type": "code",
   "execution_count": 15,
   "id": "7cb88863",
   "metadata": {},
   "outputs": [],
   "source": [
    "def dict_from_lists_2(keys: list, values: list) -> dict:\n",
    "    dict_new = {keys[i]: values[i] for i in range(len(keys))}\n",
    "    return dict_new"
   ]
  },
  {
   "cell_type": "code",
   "execution_count": 19,
   "id": "8a0e0f9b",
   "metadata": {},
   "outputs": [
    {
     "data": {
      "text/plain": [
       "{'One': 1, 'Two': 2, 'Three': 3}"
      ]
     },
     "execution_count": 19,
     "metadata": {},
     "output_type": "execute_result"
    }
   ],
   "source": [
    "dict_from_lists_2(keys, values)"
   ]
  },
  {
   "cell_type": "markdown",
   "id": "70ac8c20",
   "metadata": {},
   "source": [
    "## Задача 3"
   ]
  },
  {
   "cell_type": "code",
   "execution_count": 22,
   "id": "366b820c",
   "metadata": {},
   "outputs": [],
   "source": [
    "client_dict = {\n",
    "    'name': 'John',\n",
    "    'age': 25,\n",
    "    'salary': 5000,\n",
    "    'city': 'Moscow'\n",
    "}"
   ]
  },
  {
   "cell_type": "markdown",
   "id": "5884bc41",
   "metadata": {},
   "source": [
    "### Подзадача 3.1"
   ]
  },
  {
   "cell_type": "code",
   "execution_count": 24,
   "id": "8988690c",
   "metadata": {},
   "outputs": [],
   "source": [
    "def select_keys(dict1: dict, keys_list: list=['name', 'age']) -> dict:\n",
    "    dict_new = {}\n",
    "    for i in range(len(keys_list)):\n",
    "        dict_new.update({keys_list[i]:dict1[keys_list[i]]})\n",
    "    return dict_new"
   ]
  },
  {
   "cell_type": "code",
   "execution_count": 27,
   "id": "1cf07a2a",
   "metadata": {},
   "outputs": [
    {
     "data": {
      "text/plain": [
       "{'name': 'John', 'age': 25}"
      ]
     },
     "execution_count": 27,
     "metadata": {},
     "output_type": "execute_result"
    }
   ],
   "source": [
    "select_keys(client_dict)"
   ]
  },
  {
   "cell_type": "markdown",
   "id": "a85606b5",
   "metadata": {},
   "source": [
    "### Подзадача 3.2"
   ]
  },
  {
   "cell_type": "code",
   "execution_count": 30,
   "id": "6d31eb0e",
   "metadata": {},
   "outputs": [],
   "source": [
    "def select_keys_comp(dict1: dict, keys_list: list=['name', 'age']) -> dict:\n",
    "    dict_new = {key:dict1[key] for key in keys_list}\n",
    "    return dict_new"
   ]
  },
  {
   "cell_type": "code",
   "execution_count": 31,
   "id": "927d678b",
   "metadata": {},
   "outputs": [
    {
     "data": {
      "text/plain": [
       "{'name': 'John', 'age': 25}"
      ]
     },
     "execution_count": 31,
     "metadata": {},
     "output_type": "execute_result"
    }
   ],
   "source": [
    "select_keys_comp(client_dict)"
   ]
  },
  {
   "cell_type": "markdown",
   "id": "f940f219",
   "metadata": {},
   "source": [
    "## Задача 4"
   ]
  },
  {
   "cell_type": "markdown",
   "id": "bd253614",
   "metadata": {},
   "source": [
    "Сгенерируйте случайные целые числа от 0 до 100 в количестве 5 штук с помощью модуля random\n",
    "\n",
    "* зафиксируйте псевдогенерацию, чтобы сгенерированные значения всегда были одинаковые\n",
    "* используйте list comprehensions"
   ]
  },
  {
   "cell_type": "code",
   "execution_count": 42,
   "id": "7fe4205f",
   "metadata": {},
   "outputs": [],
   "source": [
    "import random"
   ]
  },
  {
   "cell_type": "code",
   "execution_count": 47,
   "id": "4403a56e",
   "metadata": {},
   "outputs": [
    {
     "data": {
      "text/plain": [
       "[79, 32, 94, 45, 88]"
      ]
     },
     "execution_count": 47,
     "metadata": {},
     "output_type": "execute_result"
    }
   ],
   "source": [
    "random.seed(5)\n",
    "new_list = [random.randint(0,100) for _ in range(5)]\n",
    "new_list"
   ]
  },
  {
   "cell_type": "markdown",
   "id": "9bb0694f",
   "metadata": {},
   "source": [
    "### Подзадача 4.2"
   ]
  },
  {
   "cell_type": "markdown",
   "id": "a3459ed0",
   "metadata": {},
   "source": [
    "#### Напишите генератор\n",
    "* Генератор на вход принимает список с данными о клиенте (данные из пункта 4.1) \n",
    "* Внутри генератора реализуйте обход по списку с данными \n",
    "На каждой итерации генератор будет возвращать кортеж из двух элементов: \n",
    "1. данные по клиенту (в зависимости от итерации, на 0 итерации вернется 0 элемент, на 1 итерации вернется 1 элемент и тд) \n",
    "2. целочисленное значение, которое показывает, сколько секунд прошло с предыдущей итерации \n",
    "\n",
    "Примечание: секунды, которые возвращаются должны показывать время не с начала запуска генератора, а именно то время, которое прошло с предыдущей итерации. А значит время на первой итерации должно равняться 0. \n",
    "* Используйте функцию time из модуля time для подсчета времени. \n",
    "* Чтобы проверить работу таймера, запустите проход по генератору в цикле с time.sleep(2)"
   ]
  },
  {
   "cell_type": "code",
   "execution_count": 48,
   "id": "2ae75e9e",
   "metadata": {},
   "outputs": [],
   "source": [
    "import time\n",
    "\n",
    "\n",
    "def generator_1(input_list: list) -> tuple:\n",
    "    prev_time = None\n",
    "    for item in input_list:\n",
    "        current_time = time.time()\n",
    "        if prev_time:\n",
    "            diff = current_time - prev_time\n",
    "        else:\n",
    "            diff = 0\n",
    "        prev_time = time.time()\n",
    "        yield (item, int(diff))      #скобки можно опустить, работать будет так же"
   ]
  },
  {
   "cell_type": "code",
   "execution_count": 52,
   "id": "704c8c06",
   "metadata": {},
   "outputs": [
    {
     "name": "stdout",
     "output_type": "stream",
     "text": [
      "(79, 0)\n",
      "(32, 1)\n",
      "(94, 1)\n",
      "(45, 1)\n",
      "(88, 1)\n"
     ]
    }
   ],
   "source": [
    "for i in generator_1(new_list):\n",
    "    print(i)\n",
    "    time.sleep(1)     # в секундах"
   ]
  },
  {
   "cell_type": "markdown",
   "id": "8fb74ca8",
   "metadata": {},
   "source": [
    "## Задача 5"
   ]
  },
  {
   "cell_type": "markdown",
   "id": "4cf9b44c",
   "metadata": {},
   "source": [
    "## Задача 5.1"
   ]
  },
  {
   "cell_type": "markdown",
   "id": "3f35ecd4",
   "metadata": {},
   "source": [
    "<img src=https://i.ytimg.com/vi/8cIVXhEpxxk/maxresdefault.jpg width=450 align=left>Подсветка</img>"
   ]
  },
  {
   "cell_type": "markdown",
   "id": "4fea873c",
   "metadata": {},
   "source": [
    "## Задача 5.2"
   ]
  },
  {
   "cell_type": "markdown",
   "id": "8d38daf8",
   "metadata": {},
   "source": [
    "<table>\n",
    "    <tr>\n",
    "        <td> </td>\n",
    "        <th> До события </th>    \n",
    "        <th> Во время события </th>\n",
    "    </tr>\n",
    "    <tr>\n",
    "        <td> Контрольная точка 1</td>\n",
    "        <td> 100 </td>    \n",
    "        <td> 200 </td>\n",
    "    </tr>\n",
    "    <tr>\n",
    "        <td> Контрольная точка 2</td>\n",
    "        <td> 150 </td>    \n",
    "        <td> 250 </td>\n",
    "    </tr>\n",
    "    <tr>\n",
    "        <td> Итого за победу</td>\n",
    "        <td> 250 </td>    \n",
    "        <td> 450 </td>\n",
    "    </tr>\n",
    "</table>"
   ]
  },
  {
   "cell_type": "markdown",
   "id": "07b30658",
   "metadata": {},
   "source": [
    "## Задача 6"
   ]
  },
  {
   "cell_type": "markdown",
   "id": "6a22f2cf",
   "metadata": {},
   "source": [
    "Напишите функцию, которая может принимать любое количество трат пользователя и считать сумму и среднее. \n",
    "* На вход поступают целочисленные значения в любом количестве \n",
    "* На выходе словарь с ключами суммы трат и средней траты"
   ]
  },
  {
   "cell_type": "code",
   "execution_count": 61,
   "id": "310726c7",
   "metadata": {},
   "outputs": [],
   "source": [
    "def costs_sum_avg(*args) -> dict:\n",
    "    sum_of_costs = sum(args)\n",
    "    average_costs = sum_of_costs/len(args)\n",
    "    return {\n",
    "        'sum': sum_of_costs, \n",
    "        'average': average_costs\n",
    "    }"
   ]
  },
  {
   "cell_type": "code",
   "execution_count": 62,
   "id": "f2fb9a44",
   "metadata": {},
   "outputs": [
    {
     "data": {
      "text/plain": [
       "{'sum': 70, 'average': 10.0}"
      ]
     },
     "execution_count": 62,
     "metadata": {},
     "output_type": "execute_result"
    }
   ],
   "source": [
    "costs_sum_avg(1, 4, 7, 5, 7, 2, 44)"
   ]
  },
  {
   "cell_type": "markdown",
   "id": "c713b9e1",
   "metadata": {},
   "source": [
    "### Пример оформления кода\n",
    "\n",
    "```\n",
    "code\n",
    "```"
   ]
  }
 ],
 "metadata": {
  "kernelspec": {
   "display_name": "Python 3 (ipykernel)",
   "language": "python",
   "name": "python3"
  },
  "language_info": {
   "codemirror_mode": {
    "name": "ipython",
    "version": 3
   },
   "file_extension": ".py",
   "mimetype": "text/x-python",
   "name": "python",
   "nbconvert_exporter": "python",
   "pygments_lexer": "ipython3",
   "version": "3.11.1"
  }
 },
 "nbformat": 4,
 "nbformat_minor": 5
}
